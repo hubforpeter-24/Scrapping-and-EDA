{
 "cells": [
  {
   "cell_type": "markdown",
   "id": "8f1fac98-d489-45b2-8cf3-75fe41dc21cd",
   "metadata": {},
   "source": [
    "## Exploratory Data Analysis of Counsumption_by_liquor 2019"
   ]
  },
  {
   "cell_type": "code",
   "execution_count": 1,
   "id": "d2e893bb-dac3-4c73-9383-33a494dad229",
   "metadata": {},
   "outputs": [],
   "source": [
    "import pandas as pd\n",
    "import numpy as np\n",
    "import matplotlib.pyplot as plt \n",
    "import seaborn as sns"
   ]
  },
  {
   "cell_type": "code",
   "execution_count": 2,
   "id": "e1c6801c-8288-483c-9862-e95a19d1c104",
   "metadata": {},
   "outputs": [
    {
     "data": {
      "text/html": [
       "<div>\n",
       "<style scoped>\n",
       "    .dataframe tbody tr th:only-of-type {\n",
       "        vertical-align: middle;\n",
       "    }\n",
       "\n",
       "    .dataframe tbody tr th {\n",
       "        vertical-align: top;\n",
       "    }\n",
       "\n",
       "    .dataframe thead th {\n",
       "        text-align: right;\n",
       "    }\n",
       "</style>\n",
       "<table border=\"1\" class=\"dataframe\">\n",
       "  <thead>\n",
       "    <tr style=\"text-align: right;\">\n",
       "      <th></th>\n",
       "      <th>Country</th>\n",
       "      <th>Recordedconsumption</th>\n",
       "      <th>Unrecordedconsumption</th>\n",
       "      <th>Beer(%)</th>\n",
       "      <th>Wine(%)</th>\n",
       "      <th>Spirits(%)</th>\n",
       "      <th>Other(%)</th>\n",
       "      <th>2025projection</th>\n",
       "      <th>2030projection</th>\n",
       "    </tr>\n",
       "  </thead>\n",
       "  <tbody>\n",
       "    <tr>\n",
       "      <th>0</th>\n",
       "      <td>Estonia</td>\n",
       "      <td>11.8</td>\n",
       "      <td>1.1</td>\n",
       "      <td>35.3</td>\n",
       "      <td>16.9</td>\n",
       "      <td>38.2</td>\n",
       "      <td>9.7</td>\n",
       "      <td>11.1</td>\n",
       "      <td>12.2</td>\n",
       "    </tr>\n",
       "    <tr>\n",
       "      <th>1</th>\n",
       "      <td>Lithuania</td>\n",
       "      <td>11.0</td>\n",
       "      <td>0.8</td>\n",
       "      <td>42.5</td>\n",
       "      <td>7.7</td>\n",
       "      <td>45.2</td>\n",
       "      <td>4.6</td>\n",
       "      <td>11.7</td>\n",
       "      <td>12.1</td>\n",
       "    </tr>\n",
       "    <tr>\n",
       "      <th>2</th>\n",
       "      <td>Czech Republic</td>\n",
       "      <td>12.9</td>\n",
       "      <td>0.4</td>\n",
       "      <td>52.7</td>\n",
       "      <td>21.8</td>\n",
       "      <td>25.4</td>\n",
       "      <td>&lt;0.1</td>\n",
       "      <td>13.4</td>\n",
       "      <td>13.2</td>\n",
       "    </tr>\n",
       "    <tr>\n",
       "      <th>3</th>\n",
       "      <td>Seychelles</td>\n",
       "      <td>13.3</td>\n",
       "      <td>0.5</td>\n",
       "      <td>42.0</td>\n",
       "      <td>20.8</td>\n",
       "      <td>33.7</td>\n",
       "      <td>3.5</td>\n",
       "      <td>12.1</td>\n",
       "      <td>11.7</td>\n",
       "    </tr>\n",
       "    <tr>\n",
       "      <th>4</th>\n",
       "      <td>Germany</td>\n",
       "      <td>11.1</td>\n",
       "      <td>0.4</td>\n",
       "      <td>50.5</td>\n",
       "      <td>29.9</td>\n",
       "      <td>19.6</td>\n",
       "      <td>&lt;0.1</td>\n",
       "      <td>12.1</td>\n",
       "      <td>11.6</td>\n",
       "    </tr>\n",
       "    <tr>\n",
       "      <th>...</th>\n",
       "      <td>...</td>\n",
       "      <td>...</td>\n",
       "      <td>...</td>\n",
       "      <td>...</td>\n",
       "      <td>...</td>\n",
       "      <td>...</td>\n",
       "      <td>...</td>\n",
       "      <td>...</td>\n",
       "      <td>...</td>\n",
       "    </tr>\n",
       "    <tr>\n",
       "      <th>373</th>\n",
       "      <td>Bangladesh</td>\n",
       "      <td>&lt;0.1</td>\n",
       "      <td>&lt;0.1</td>\n",
       "      <td>11.1</td>\n",
       "      <td>2.4</td>\n",
       "      <td>86.3</td>\n",
       "      <td>0.1</td>\n",
       "      <td>&lt;0.1</td>\n",
       "      <td>&lt;0.1</td>\n",
       "    </tr>\n",
       "    <tr>\n",
       "      <th>374</th>\n",
       "      <td>Kuwait</td>\n",
       "      <td>&lt;0.1</td>\n",
       "      <td>&lt;0.1</td>\n",
       "      <td>â</td>\n",
       "      <td>â</td>\n",
       "      <td>â</td>\n",
       "      <td>â</td>\n",
       "      <td>&lt;0.1</td>\n",
       "      <td>&lt;0.1</td>\n",
       "    </tr>\n",
       "    <tr>\n",
       "      <th>375</th>\n",
       "      <td>Libya</td>\n",
       "      <td>&lt;0.1</td>\n",
       "      <td>&lt;0.1</td>\n",
       "      <td>6.8</td>\n",
       "      <td>10.5</td>\n",
       "      <td>32.6</td>\n",
       "      <td>50.2</td>\n",
       "      <td>&lt;0.1</td>\n",
       "      <td>&lt;0.1</td>\n",
       "    </tr>\n",
       "    <tr>\n",
       "      <th>376</th>\n",
       "      <td>Mauritania</td>\n",
       "      <td>&lt;0.1</td>\n",
       "      <td>&lt;0.1</td>\n",
       "      <td>â</td>\n",
       "      <td>â</td>\n",
       "      <td>â</td>\n",
       "      <td>â</td>\n",
       "      <td>&lt;0.1</td>\n",
       "      <td>&lt;0.1</td>\n",
       "    </tr>\n",
       "    <tr>\n",
       "      <th>377</th>\n",
       "      <td>Somalia</td>\n",
       "      <td>&lt;0.1</td>\n",
       "      <td>&lt;0.1</td>\n",
       "      <td>â</td>\n",
       "      <td>â</td>\n",
       "      <td>â</td>\n",
       "      <td>â</td>\n",
       "      <td>&lt;0.1</td>\n",
       "      <td>&lt;0.1</td>\n",
       "    </tr>\n",
       "  </tbody>\n",
       "</table>\n",
       "<p>378 rows × 9 columns</p>\n",
       "</div>"
      ],
      "text/plain": [
       "            Country Recordedconsumption Unrecordedconsumption Beer(%) Wine(%)  \\\n",
       "0           Estonia                11.8                   1.1    35.3    16.9   \n",
       "1         Lithuania                11.0                   0.8    42.5     7.7   \n",
       "2    Czech Republic                12.9                   0.4    52.7    21.8   \n",
       "3        Seychelles                13.3                   0.5    42.0    20.8   \n",
       "4           Germany                11.1                   0.4    50.5    29.9   \n",
       "..              ...                 ...                   ...     ...     ...   \n",
       "373      Bangladesh                <0.1                  <0.1    11.1     2.4   \n",
       "374          Kuwait                <0.1                  <0.1     â     â   \n",
       "375           Libya                <0.1                  <0.1     6.8    10.5   \n",
       "376      Mauritania                <0.1                  <0.1     â     â   \n",
       "377         Somalia                <0.1                  <0.1     â     â   \n",
       "\n",
       "    Spirits(%) Other(%) 2025projection 2030projection  \n",
       "0         38.2      9.7           11.1           12.2  \n",
       "1         45.2      4.6           11.7           12.1  \n",
       "2         25.4     <0.1           13.4           13.2  \n",
       "3         33.7      3.5           12.1           11.7  \n",
       "4         19.6     <0.1           12.1           11.6  \n",
       "..         ...      ...            ...            ...  \n",
       "373       86.3      0.1           <0.1           <0.1  \n",
       "374        â      â           <0.1           <0.1  \n",
       "375       32.6     50.2           <0.1           <0.1  \n",
       "376        â      â           <0.1           <0.1  \n",
       "377        â      â           <0.1           <0.1  \n",
       "\n",
       "[378 rows x 9 columns]"
      ]
     },
     "execution_count": 2,
     "metadata": {},
     "output_type": "execute_result"
    }
   ],
   "source": [
    "df = pd.read_csv(r'C:\\Users\\Arnold\\OneDrive\\Desktop\\Scraping files\\Counsumption_by_liquor.csv', encoding= 'unicode_escape')\n",
    "df"
   ]
  },
  {
   "cell_type": "code",
   "execution_count": 3,
   "id": "632f5826-3e04-40b3-aca7-0a3a2dc8db02",
   "metadata": {},
   "outputs": [
    {
     "name": "stdout",
     "output_type": "stream",
     "text": [
      "Shape of the dataset: (378, 9)\n",
      "***************************************************************************************************\n",
      "Columns in the dataset: Index(['Country', 'Recordedconsumption', 'Unrecordedconsumption', 'Beer(%)',\n",
      "       'Wine(%)', 'Spirits(%)', 'Other(%)', '2025projection',\n",
      "       '2030projection'],\n",
      "      dtype='object')\n",
      "***************************************************************************************************\n",
      "Datatypes of each column: Country                  object\n",
      "Recordedconsumption      object\n",
      "Unrecordedconsumption    object\n",
      "Beer(%)                  object\n",
      "Wine(%)                  object\n",
      "Spirits(%)               object\n",
      "Other(%)                 object\n",
      "2025projection           object\n",
      "2030projection           object\n",
      "dtype: object\n",
      "***************************************************************************************************\n",
      "First five records in the dataset:           Country Recordedconsumption Unrecordedconsumption Beer(%) Wine(%)  \\\n",
      "0         Estonia                11.8                   1.1    35.3    16.9   \n",
      "1       Lithuania                11.0                   0.8    42.5     7.7   \n",
      "2  Czech Republic                12.9                   0.4    52.7    21.8   \n",
      "3      Seychelles                13.3                   0.5    42.0    20.8   \n",
      "4         Germany                11.1                   0.4    50.5    29.9   \n",
      "\n",
      "  Spirits(%) Other(%) 2025projection 2030projection  \n",
      "0       38.2      9.7           11.1           12.2  \n",
      "1       45.2      4.6           11.7           12.1  \n",
      "2       25.4     <0.1           13.4           13.2  \n",
      "3       33.7      3.5           12.1           11.7  \n",
      "4       19.6     <0.1           12.1           11.6  \n",
      "***************************************************************************************************\n",
      "Statistical summary about the dataset:         Country Recordedconsumption Unrecordedconsumption Beer(%) Wine(%)  \\\n",
      "count       378                 378                   378     378     378   \n",
      "unique      189                  92                    32     167     133   \n",
      "top     Estonia                <0.1                   0.4     â    <0.1   \n",
      "freq          2                  26                    60       8      18   \n",
      "\n",
      "       Spirits(%) Other(%) 2025projection 2030projection  \n",
      "count         378      378            378            378  \n",
      "unique        166       83             97             98  \n",
      "top           â     <0.1           <0.1           <0.1  \n",
      "freq            8      100             18             20  \n",
      "***************************************************************************************************\n"
     ]
    }
   ],
   "source": [
    "### Descriptive analysis of the dataset:\n",
    "print (f\"Shape of the dataset: {df.shape}\")\n",
    "print(\"*\" * 99)\n",
    "print (f\"Columns in the dataset: {df.columns}\")\n",
    "print(\"*\" * 99)\n",
    "print (f\"Datatypes of each column: {df.dtypes}\")\n",
    "print(\"*\" * 99)\n",
    "print (f\"First five records in the dataset: {df.head(5)}\")\n",
    "print(\"*\" * 99)\n",
    "print (f\"Statistical summary about the dataset: {df.describe(include=\"all\")}\")\n",
    "print(\"*\" * 99)"
   ]
  },
  {
   "cell_type": "markdown",
   "id": "b50e0697-b174-4b6b-9449-2849be9df233",
   "metadata": {},
   "source": [
    "### Cleaning the data set :"
   ]
  },
  {
   "cell_type": "code",
   "execution_count": 4,
   "id": "de316162-523b-4409-b29d-fac6388cdb4d",
   "metadata": {},
   "outputs": [
    {
     "name": "stdout",
     "output_type": "stream",
     "text": [
      "<class 'pandas.core.frame.DataFrame'>\n",
      "RangeIndex: 378 entries, 0 to 377\n",
      "Data columns (total 9 columns):\n",
      " #   Column                 Non-Null Count  Dtype \n",
      "---  ------                 --------------  ----- \n",
      " 0   Country                378 non-null    object\n",
      " 1   Recordedconsumption    378 non-null    object\n",
      " 2   Unrecordedconsumption  378 non-null    object\n",
      " 3   Beer(%)                378 non-null    object\n",
      " 4   Wine(%)                378 non-null    object\n",
      " 5   Spirits(%)             378 non-null    object\n",
      " 6   Other(%)               378 non-null    object\n",
      " 7   2025projection         378 non-null    object\n",
      " 8   2030projection         378 non-null    object\n",
      "dtypes: object(9)\n",
      "memory usage: 26.7+ KB\n"
     ]
    }
   ],
   "source": [
    "### Characteristics of the dataset:\n",
    "df.info()"
   ]
  },
  {
   "cell_type": "code",
   "execution_count": 5,
   "id": "df53c3fb-422a-4bd0-98a7-2e82662b0d47",
   "metadata": {},
   "outputs": [
    {
     "data": {
      "text/plain": [
       "Country                  0\n",
       "Recordedconsumption      0\n",
       "Unrecordedconsumption    0\n",
       "Beer(%)                  0\n",
       "Wine(%)                  0\n",
       "Spirits(%)               0\n",
       "Other(%)                 0\n",
       "2025projection           0\n",
       "2030projection           0\n",
       "dtype: int64"
      ]
     },
     "execution_count": 5,
     "metadata": {},
     "output_type": "execute_result"
    }
   ],
   "source": [
    "pd.isnull(df).sum()"
   ]
  },
  {
   "cell_type": "code",
   "execution_count": 6,
   "id": "32a8d86a-8965-4d29-939e-399f84ebe86d",
   "metadata": {},
   "outputs": [],
   "source": [
    "###Since there is no null values no requirement to drop any: "
   ]
  },
  {
   "cell_type": "code",
   "execution_count": 7,
   "id": "4dca83e2-d374-40b8-9d92-a4c3aebb4953",
   "metadata": {},
   "outputs": [
    {
     "data": {
      "text/plain": [
       "Index(['Country', 'Recordedconsumption', 'Unrecordedconsumption', 'Beer(%)',\n",
       "       'Wine(%)', 'Spirits(%)', 'Other(%)', '2025projection',\n",
       "       '2030projection'],\n",
       "      dtype='object')"
      ]
     },
     "execution_count": 7,
     "metadata": {},
     "output_type": "execute_result"
    }
   ],
   "source": [
    "df.columns"
   ]
  },
  {
   "cell_type": "code",
   "execution_count": 8,
   "id": "eaa4617b-6106-4608-95f1-c4fd53fac2e8",
   "metadata": {},
   "outputs": [
    {
     "data": {
      "text/html": [
       "<div>\n",
       "<style scoped>\n",
       "    .dataframe tbody tr th:only-of-type {\n",
       "        vertical-align: middle;\n",
       "    }\n",
       "\n",
       "    .dataframe tbody tr th {\n",
       "        vertical-align: top;\n",
       "    }\n",
       "\n",
       "    .dataframe thead th {\n",
       "        text-align: right;\n",
       "    }\n",
       "</style>\n",
       "<table border=\"1\" class=\"dataframe\">\n",
       "  <thead>\n",
       "    <tr style=\"text-align: right;\">\n",
       "      <th></th>\n",
       "      <th>Country</th>\n",
       "      <th>Recordedconsumption</th>\n",
       "      <th>Unrecordedconsumption</th>\n",
       "      <th>Beer(%)</th>\n",
       "      <th>Wine(%)</th>\n",
       "      <th>Spirits(%)</th>\n",
       "      <th>Other(%)</th>\n",
       "      <th>2025projection</th>\n",
       "      <th>2030projection</th>\n",
       "    </tr>\n",
       "  </thead>\n",
       "  <tbody>\n",
       "    <tr>\n",
       "      <th>0</th>\n",
       "      <td>Estonia</td>\n",
       "      <td>11.8</td>\n",
       "      <td>1.1</td>\n",
       "      <td>35.3</td>\n",
       "      <td>16.9</td>\n",
       "      <td>38.2</td>\n",
       "      <td>9.7</td>\n",
       "      <td>11.1</td>\n",
       "      <td>12.2</td>\n",
       "    </tr>\n",
       "    <tr>\n",
       "      <th>1</th>\n",
       "      <td>Lithuania</td>\n",
       "      <td>11.0</td>\n",
       "      <td>0.8</td>\n",
       "      <td>42.5</td>\n",
       "      <td>7.7</td>\n",
       "      <td>45.2</td>\n",
       "      <td>4.6</td>\n",
       "      <td>11.7</td>\n",
       "      <td>12.1</td>\n",
       "    </tr>\n",
       "    <tr>\n",
       "      <th>2</th>\n",
       "      <td>Czech Republic</td>\n",
       "      <td>12.9</td>\n",
       "      <td>0.4</td>\n",
       "      <td>52.7</td>\n",
       "      <td>21.8</td>\n",
       "      <td>25.4</td>\n",
       "      <td>&lt;0.1</td>\n",
       "      <td>13.4</td>\n",
       "      <td>13.2</td>\n",
       "    </tr>\n",
       "    <tr>\n",
       "      <th>3</th>\n",
       "      <td>Seychelles</td>\n",
       "      <td>13.3</td>\n",
       "      <td>0.5</td>\n",
       "      <td>42.0</td>\n",
       "      <td>20.8</td>\n",
       "      <td>33.7</td>\n",
       "      <td>3.5</td>\n",
       "      <td>12.1</td>\n",
       "      <td>11.7</td>\n",
       "    </tr>\n",
       "    <tr>\n",
       "      <th>4</th>\n",
       "      <td>Germany</td>\n",
       "      <td>11.1</td>\n",
       "      <td>0.4</td>\n",
       "      <td>50.5</td>\n",
       "      <td>29.9</td>\n",
       "      <td>19.6</td>\n",
       "      <td>&lt;0.1</td>\n",
       "      <td>12.1</td>\n",
       "      <td>11.6</td>\n",
       "    </tr>\n",
       "  </tbody>\n",
       "</table>\n",
       "</div>"
      ],
      "text/plain": [
       "          Country Recordedconsumption Unrecordedconsumption Beer(%) Wine(%)  \\\n",
       "0         Estonia                11.8                   1.1    35.3    16.9   \n",
       "1       Lithuania                11.0                   0.8    42.5     7.7   \n",
       "2  Czech Republic                12.9                   0.4    52.7    21.8   \n",
       "3      Seychelles                13.3                   0.5    42.0    20.8   \n",
       "4         Germany                11.1                   0.4    50.5    29.9   \n",
       "\n",
       "  Spirits(%) Other(%) 2025projection 2030projection  \n",
       "0       38.2      9.7           11.1           12.2  \n",
       "1       45.2      4.6           11.7           12.1  \n",
       "2       25.4     <0.1           13.4           13.2  \n",
       "3       33.7      3.5           12.1           11.7  \n",
       "4       19.6     <0.1           12.1           11.6  "
      ]
     },
     "execution_count": 8,
     "metadata": {},
     "output_type": "execute_result"
    }
   ],
   "source": [
    "df.head()"
   ]
  },
  {
   "cell_type": "code",
   "execution_count": 9,
   "id": "e663e371-44a3-4769-87e7-a74f62a7da62",
   "metadata": {},
   "outputs": [],
   "source": [
    "### Renaming the columns correctly:\n",
    "df_1= df.rename(columns={'Recordedconsumption':'Recorded Consumption',\n",
    "                                'Unrecordedconsumption':'Unrecorded Consumption',\n",
    "                                'Beer(%)':'Beer (%)',\n",
    "                                'Wine(%)':'Wine (%)',\n",
    "                                'Spirits(%)':'Spirits (%)',\n",
    "                                'Other(%)':'Other (%)',\n",
    "                                '2025projection':'2025 projection',\n",
    "                                '2030projection':'2030 projection'\n",
    "                               })"
   ]
  },
  {
   "cell_type": "code",
   "execution_count": 10,
   "id": "cf9d20aa-ecb6-468d-8343-7bd290ba343f",
   "metadata": {},
   "outputs": [
    {
     "data": {
      "text/plain": [
       "array(['9.7', '4.6', '<0.1', '3.5', '64.1', '7.6', '2.5', '7.2', '1.9',\n",
       "       '1.6', '3.7', '0.8', '3.4', '0.7', '1.3', '6.4', '1.7', '0.9',\n",
       "       '24.7', '15.7', '13.5', '8.6', '1.5', '73.0', '62.0', '6.6', '9.6',\n",
       "       '0.3', '18.0', '77.7', '2.3', '78.6', '3.6', '9.9', '1.8', '38.8',\n",
       "       '38.5', '4.0', '4.2', '42.9', '16.2', '0.2', '81.4', '1.1', '3.0',\n",
       "       '5.9', '1.0', '57.9', '3.2', '0.4', '39.5', '1.4', '3.3', '2.8',\n",
       "       '3.1', '0.5', '4.3', '0.1', '33.5', '2.6', '12.4', '35.1', '52.2',\n",
       "       '51.7', '80.3', '85.5', '31.6', '60.6', '15.6', '78.1', '34.3',\n",
       "       '42.2', '47.1', '0.6', '2.0', '28.7', '58.0', '96.7', '1.2', '4.5',\n",
       "       '23.6', 'â\\x80\\x93', '50.2'], dtype=object)"
      ]
     },
     "execution_count": 10,
     "metadata": {},
     "output_type": "execute_result"
    }
   ],
   "source": [
    "df_1['Other (%)'].unique()"
   ]
  },
  {
   "cell_type": "code",
   "execution_count": 11,
   "id": "a327ba52-0c91-4be2-a44f-8341ccac88a7",
   "metadata": {},
   "outputs": [
    {
     "data": {
      "text/html": [
       "<div>\n",
       "<style scoped>\n",
       "    .dataframe tbody tr th:only-of-type {\n",
       "        vertical-align: middle;\n",
       "    }\n",
       "\n",
       "    .dataframe tbody tr th {\n",
       "        vertical-align: top;\n",
       "    }\n",
       "\n",
       "    .dataframe thead th {\n",
       "        text-align: right;\n",
       "    }\n",
       "</style>\n",
       "<table border=\"1\" class=\"dataframe\">\n",
       "  <thead>\n",
       "    <tr style=\"text-align: right;\">\n",
       "      <th></th>\n",
       "      <th>Country</th>\n",
       "      <th>Recorded Consumption</th>\n",
       "      <th>Unrecorded Consumption</th>\n",
       "      <th>Beer (%)</th>\n",
       "      <th>Wine (%)</th>\n",
       "      <th>Spirits (%)</th>\n",
       "      <th>Other (%)</th>\n",
       "      <th>2025 projection</th>\n",
       "      <th>2030 projection</th>\n",
       "    </tr>\n",
       "  </thead>\n",
       "  <tbody>\n",
       "    <tr>\n",
       "      <th>count</th>\n",
       "      <td>378</td>\n",
       "      <td>378</td>\n",
       "      <td>378</td>\n",
       "      <td>378</td>\n",
       "      <td>378</td>\n",
       "      <td>378</td>\n",
       "      <td>378</td>\n",
       "      <td>378</td>\n",
       "      <td>378</td>\n",
       "    </tr>\n",
       "    <tr>\n",
       "      <th>unique</th>\n",
       "      <td>189</td>\n",
       "      <td>92</td>\n",
       "      <td>32</td>\n",
       "      <td>167</td>\n",
       "      <td>133</td>\n",
       "      <td>166</td>\n",
       "      <td>83</td>\n",
       "      <td>97</td>\n",
       "      <td>98</td>\n",
       "    </tr>\n",
       "    <tr>\n",
       "      <th>top</th>\n",
       "      <td>Estonia</td>\n",
       "      <td>&lt;0.1</td>\n",
       "      <td>0.4</td>\n",
       "      <td>â</td>\n",
       "      <td>&lt;0.1</td>\n",
       "      <td>â</td>\n",
       "      <td>&lt;0.1</td>\n",
       "      <td>&lt;0.1</td>\n",
       "      <td>&lt;0.1</td>\n",
       "    </tr>\n",
       "    <tr>\n",
       "      <th>freq</th>\n",
       "      <td>2</td>\n",
       "      <td>26</td>\n",
       "      <td>60</td>\n",
       "      <td>8</td>\n",
       "      <td>18</td>\n",
       "      <td>8</td>\n",
       "      <td>100</td>\n",
       "      <td>18</td>\n",
       "      <td>20</td>\n",
       "    </tr>\n",
       "  </tbody>\n",
       "</table>\n",
       "</div>"
      ],
      "text/plain": [
       "        Country Recorded Consumption Unrecorded Consumption Beer (%) Wine (%)  \\\n",
       "count       378                  378                    378      378      378   \n",
       "unique      189                   92                     32      167      133   \n",
       "top     Estonia                 <0.1                    0.4      â     <0.1   \n",
       "freq          2                   26                     60        8       18   \n",
       "\n",
       "       Spirits (%) Other (%) 2025 projection 2030 projection  \n",
       "count          378       378             378             378  \n",
       "unique         166        83              97              98  \n",
       "top            â      <0.1            <0.1            <0.1  \n",
       "freq             8       100              18              20  "
      ]
     },
     "execution_count": 11,
     "metadata": {},
     "output_type": "execute_result"
    }
   ],
   "source": [
    "df_1.describe()"
   ]
  },
  {
   "cell_type": "code",
   "execution_count": 12,
   "id": "1a48f71a-ecf5-4d5f-90ea-b32458962658",
   "metadata": {},
   "outputs": [],
   "source": [
    "### Replacing nan values(â) with 0 , and removing < symbol."
   ]
  },
  {
   "cell_type": "code",
   "execution_count": 13,
   "id": "2d4ad5a9-d4c1-4963-a892-ce28d30f6f99",
   "metadata": {
    "scrolled": true
   },
   "outputs": [
    {
     "name": "stderr",
     "output_type": "stream",
     "text": [
      "C:\\Users\\Arnold\\AppData\\Local\\Temp\\ipykernel_29032\\2944259283.py:1: FutureWarning: A value is trying to be set on a copy of a DataFrame or Series through chained assignment using an inplace method.\n",
      "The behavior will change in pandas 3.0. This inplace method will never work because the intermediate object on which we are setting values always behaves as a copy.\n",
      "\n",
      "For example, when doing 'df[col].method(value, inplace=True)', try using 'df.method({col: value}, inplace=True)' or df[col] = df[col].method(value) instead, to perform the operation inplace on the original object.\n",
      "\n",
      "\n",
      "  df_1['Spirits (%)'].replace('â', '0',inplace = True)\n"
     ]
    }
   ],
   "source": [
    "df_1['Spirits (%)'].replace('â', '0',inplace = True)"
   ]
  },
  {
   "cell_type": "code",
   "execution_count": 39,
   "id": "0d97eb2f-45bd-4a4d-8de3-cceaaafd356f",
   "metadata": {},
   "outputs": [],
   "source": [
    "df_1['Spirits (%)'] = df_1['Spirits (%)'].str.replace(\"<\", \"\")"
   ]
  },
  {
   "cell_type": "code",
   "execution_count": 14,
   "id": "bb6a44f0-f5b8-46d2-8644-11e33bd24806",
   "metadata": {},
   "outputs": [
    {
     "name": "stderr",
     "output_type": "stream",
     "text": [
      "C:\\Users\\Arnold\\AppData\\Local\\Temp\\ipykernel_29032\\2750125315.py:1: FutureWarning: A value is trying to be set on a copy of a DataFrame or Series through chained assignment using an inplace method.\n",
      "The behavior will change in pandas 3.0. This inplace method will never work because the intermediate object on which we are setting values always behaves as a copy.\n",
      "\n",
      "For example, when doing 'df[col].method(value, inplace=True)', try using 'df.method({col: value}, inplace=True)' or df[col] = df[col].method(value) instead, to perform the operation inplace on the original object.\n",
      "\n",
      "\n",
      "  df_1['Beer (%)'].replace('â', '0',inplace = True)\n"
     ]
    }
   ],
   "source": [
    "df_1['Beer (%)'].replace('â', '0',inplace = True)"
   ]
  },
  {
   "cell_type": "code",
   "execution_count": 38,
   "id": "bd335540-ec8e-44fa-b5fb-7d984fb7cf28",
   "metadata": {},
   "outputs": [],
   "source": [
    "df_1['Beer (%)'] = df_1['Beer (%)'].str.replace(\"<\", \"\")"
   ]
  },
  {
   "cell_type": "code",
   "execution_count": 15,
   "id": "e916637d-361e-482c-a52b-e9f583cc8b33",
   "metadata": {},
   "outputs": [
    {
     "name": "stderr",
     "output_type": "stream",
     "text": [
      "C:\\Users\\Arnold\\AppData\\Local\\Temp\\ipykernel_29032\\2309707179.py:1: FutureWarning: Series.replace without 'value' and with non-dict-like 'to_replace' is deprecated and will raise in a future version. Explicitly specify the new values instead.\n",
      "  df_1['Other (%)'].replace(['â', '0'],inplace = True)\n",
      "C:\\Users\\Arnold\\AppData\\Local\\Temp\\ipykernel_29032\\2309707179.py:1: FutureWarning: A value is trying to be set on a copy of a DataFrame or Series through chained assignment using an inplace method.\n",
      "The behavior will change in pandas 3.0. This inplace method will never work because the intermediate object on which we are setting values always behaves as a copy.\n",
      "\n",
      "For example, when doing 'df[col].method(value, inplace=True)', try using 'df.method({col: value}, inplace=True)' or df[col] = df[col].method(value) instead, to perform the operation inplace on the original object.\n",
      "\n",
      "\n",
      "  df_1['Other (%)'].replace(['â', '0'],inplace = True)\n"
     ]
    }
   ],
   "source": [
    "df_1['Other (%)'].replace(['â', '0'],inplace = True)"
   ]
  },
  {
   "cell_type": "code",
   "execution_count": null,
   "id": "d56eddba-9012-4554-8063-1b29d00cf6df",
   "metadata": {},
   "outputs": [],
   "source": [
    "df_1['Other (%)'] = df_1['Other (%)'].str.replace(\"<\", \"\")"
   ]
  },
  {
   "cell_type": "code",
   "execution_count": 45,
   "id": "863ff7ec-487e-44f4-8212-7229e967dce3",
   "metadata": {},
   "outputs": [
    {
     "name": "stderr",
     "output_type": "stream",
     "text": [
      "C:\\Users\\Arnold\\AppData\\Local\\Temp\\ipykernel_29032\\2309712421.py:1: FutureWarning: A value is trying to be set on a copy of a DataFrame or Series through chained assignment using an inplace method.\n",
      "The behavior will change in pandas 3.0. This inplace method will never work because the intermediate object on which we are setting values always behaves as a copy.\n",
      "\n",
      "For example, when doing 'df[col].method(value, inplace=True)', try using 'df.method({col: value}, inplace=True)' or df[col] = df[col].method(value) instead, to perform the operation inplace on the original object.\n",
      "\n",
      "\n",
      "  df_1['Wine (%)'].replace('â', '0',inplace = True)\n"
     ]
    }
   ],
   "source": [
    "df_1['Wine (%)'].replace('â', '0',inplace = True)"
   ]
  },
  {
   "cell_type": "code",
   "execution_count": 40,
   "id": "b12414d8-d006-4228-ae71-f1f6b46d4de2",
   "metadata": {},
   "outputs": [],
   "source": [
    "df_1['Wine (%)'] = df_1['Wine (%)'].str.replace(\"<\", \"\")"
   ]
  },
  {
   "cell_type": "code",
   "execution_count": 42,
   "id": "2ddfb755-2f62-4fb2-a2da-ce6eef79dcd2",
   "metadata": {},
   "outputs": [],
   "source": [
    "df_1['2025 projection'] = df_1['2025 projection'].str.replace(\"<\", \"\")"
   ]
  },
  {
   "cell_type": "code",
   "execution_count": 43,
   "id": "0617795f-c421-4316-b20e-0eea9ae5eba0",
   "metadata": {},
   "outputs": [],
   "source": [
    "df_1['2030 projection'] = df_1['2030 projection'].str.replace(\"<\", \"\")"
   ]
  },
  {
   "cell_type": "code",
   "execution_count": 47,
   "id": "58fb5130-faa8-42df-857d-9d5abcb736bd",
   "metadata": {},
   "outputs": [],
   "source": [
    "df_1['Unrecorded Consumption'] = df_1['Unrecorded Consumption'].str.replace(\"<\", \"\")"
   ]
  },
  {
   "cell_type": "code",
   "execution_count": 48,
   "id": "a424e45d-13d7-448b-8efc-99f118ecc93f",
   "metadata": {},
   "outputs": [],
   "source": [
    "df_1['Recorded Consumption'] = df_1['Recorded Consumption'].str.replace(\"<\", \"\")"
   ]
  },
  {
   "cell_type": "code",
   "execution_count": 50,
   "id": "395c5439-36b6-4a89-bcd1-1c76c69a3fcc",
   "metadata": {},
   "outputs": [],
   "source": [
    "### dropping an extra column created by mistake. \n",
    "df_1 = df_1.drop(columns='Other_cleaned') "
   ]
  },
  {
   "cell_type": "code",
   "execution_count": 51,
   "id": "b6cc8ca5-e9b9-419f-9fe8-29a282d2bf32",
   "metadata": {},
   "outputs": [
    {
     "name": "stdout",
     "output_type": "stream",
     "text": [
      "            Country Recorded Consumption Unrecorded Consumption Beer (%)  \\\n",
      "0           Estonia                 11.8                    1.1     35.3   \n",
      "1         Lithuania                 11.0                    0.8     42.5   \n",
      "2    Czech Republic                 12.9                    0.4     52.7   \n",
      "3        Seychelles                 13.3                    0.5     42.0   \n",
      "4           Germany                 11.1                    0.4     50.5   \n",
      "..              ...                  ...                    ...      ...   \n",
      "373      Bangladesh                  0.1                    0.1     11.1   \n",
      "374          Kuwait                  0.1                    0.1        0   \n",
      "375           Libya                  0.1                    0.1      6.8   \n",
      "376      Mauritania                  0.1                    0.1        0   \n",
      "377         Somalia                  0.1                    0.1        0   \n",
      "\n",
      "    Wine (%) Spirits (%) Other (%) 2025 projection 2030 projection  \n",
      "0       16.9        38.2       9.7            11.1            12.2  \n",
      "1        7.7        45.2       4.6            11.7            12.1  \n",
      "2       21.8        25.4       0.1            13.4            13.2  \n",
      "3       20.8        33.7       3.5            12.1            11.7  \n",
      "4       29.9        19.6       0.1            12.1            11.6  \n",
      "..       ...         ...       ...             ...             ...  \n",
      "373      2.4        86.3       0.1             0.1             0.1  \n",
      "374        0           0       0.1             0.1             0.1  \n",
      "375     10.5        32.6      50.2             0.1             0.1  \n",
      "376        0           0      50.2             0.1             0.1  \n",
      "377        0           0      50.2             0.1             0.1  \n",
      "\n",
      "[378 rows x 9 columns]\n"
     ]
    }
   ],
   "source": [
    "print(df_1)"
   ]
  },
  {
   "cell_type": "code",
   "execution_count": 52,
   "id": "6469c674-0bc7-440c-84bb-898be610d35e",
   "metadata": {},
   "outputs": [
    {
     "data": {
      "text/html": [
       "<div>\n",
       "<style scoped>\n",
       "    .dataframe tbody tr th:only-of-type {\n",
       "        vertical-align: middle;\n",
       "    }\n",
       "\n",
       "    .dataframe tbody tr th {\n",
       "        vertical-align: top;\n",
       "    }\n",
       "\n",
       "    .dataframe thead th {\n",
       "        text-align: right;\n",
       "    }\n",
       "</style>\n",
       "<table border=\"1\" class=\"dataframe\">\n",
       "  <thead>\n",
       "    <tr style=\"text-align: right;\">\n",
       "      <th></th>\n",
       "      <th>Country</th>\n",
       "      <th>Recorded Consumption</th>\n",
       "      <th>Unrecorded Consumption</th>\n",
       "      <th>Beer (%)</th>\n",
       "      <th>Wine (%)</th>\n",
       "      <th>Spirits (%)</th>\n",
       "      <th>Other (%)</th>\n",
       "      <th>2025 projection</th>\n",
       "      <th>2030 projection</th>\n",
       "    </tr>\n",
       "  </thead>\n",
       "  <tbody>\n",
       "    <tr>\n",
       "      <th>count</th>\n",
       "      <td>378</td>\n",
       "      <td>378</td>\n",
       "      <td>378</td>\n",
       "      <td>378</td>\n",
       "      <td>378</td>\n",
       "      <td>378</td>\n",
       "      <td>378</td>\n",
       "      <td>378</td>\n",
       "      <td>378</td>\n",
       "    </tr>\n",
       "    <tr>\n",
       "      <th>unique</th>\n",
       "      <td>189</td>\n",
       "      <td>91</td>\n",
       "      <td>31</td>\n",
       "      <td>167</td>\n",
       "      <td>132</td>\n",
       "      <td>165</td>\n",
       "      <td>81</td>\n",
       "      <td>96</td>\n",
       "      <td>97</td>\n",
       "    </tr>\n",
       "    <tr>\n",
       "      <th>top</th>\n",
       "      <td>Estonia</td>\n",
       "      <td>0.1</td>\n",
       "      <td>0.1</td>\n",
       "      <td>0</td>\n",
       "      <td>0.1</td>\n",
       "      <td>0</td>\n",
       "      <td>0.1</td>\n",
       "      <td>0.1</td>\n",
       "      <td>0.1</td>\n",
       "    </tr>\n",
       "    <tr>\n",
       "      <th>freq</th>\n",
       "      <td>2</td>\n",
       "      <td>32</td>\n",
       "      <td>64</td>\n",
       "      <td>8</td>\n",
       "      <td>22</td>\n",
       "      <td>8</td>\n",
       "      <td>114</td>\n",
       "      <td>26</td>\n",
       "      <td>28</td>\n",
       "    </tr>\n",
       "  </tbody>\n",
       "</table>\n",
       "</div>"
      ],
      "text/plain": [
       "        Country Recorded Consumption Unrecorded Consumption Beer (%) Wine (%)  \\\n",
       "count       378                  378                    378      378      378   \n",
       "unique      189                   91                     31      167      132   \n",
       "top     Estonia                  0.1                    0.1        0      0.1   \n",
       "freq          2                   32                     64        8       22   \n",
       "\n",
       "       Spirits (%) Other (%) 2025 projection 2030 projection  \n",
       "count          378       378             378             378  \n",
       "unique         165        81              96              97  \n",
       "top              0       0.1             0.1             0.1  \n",
       "freq             8       114              26              28  "
      ]
     },
     "execution_count": 52,
     "metadata": {},
     "output_type": "execute_result"
    }
   ],
   "source": [
    "df_1.describe()"
   ]
  },
  {
   "cell_type": "code",
   "execution_count": 55,
   "id": "22181c89-0e4f-41e7-a2bc-7880ca4763f4",
   "metadata": {},
   "outputs": [],
   "source": [
    "### Changing the data types to float:\n",
    "df_1 = df_1.astype({'Recorded Consumption': 'float', \n",
    "                    'Unrecorded Consumption': 'float',\n",
    "                    'Beer (%)': 'float',\n",
    "                    'Wine (%)': 'float',\n",
    "                    'Spirits (%)': 'float',\n",
    "                    'Other (%)': 'float',\n",
    "                    '2025 projection': 'float',\n",
    "                    '2030 projection': 'float'})"
   ]
  },
  {
   "cell_type": "code",
   "execution_count": 58,
   "id": "88af0595-1fed-40ed-8b10-c89085db3d14",
   "metadata": {},
   "outputs": [
    {
     "data": {
      "text/plain": [
       "Country                   0\n",
       "Recorded Consumption      0\n",
       "Unrecorded Consumption    0\n",
       "Beer (%)                  0\n",
       "Wine (%)                  0\n",
       "Spirits (%)               0\n",
       "Other (%)                 0\n",
       "2025 projection           0\n",
       "2030 projection           0\n",
       "dtype: int64"
      ]
     },
     "execution_count": 58,
     "metadata": {},
     "output_type": "execute_result"
    }
   ],
   "source": [
    "df_1.isna().sum()"
   ]
  },
  {
   "cell_type": "code",
   "execution_count": 57,
   "id": "827b2e1e-4f9c-4a0f-a171-75b35141b0a4",
   "metadata": {
    "scrolled": true
   },
   "outputs": [
    {
     "name": "stdout",
     "output_type": "stream",
     "text": [
      "Shape of the dataset: (378, 9)\n",
      "***************************************************************************************************\n",
      "Columns in the dataset: Index(['Country', 'Recorded Consumption', 'Unrecorded Consumption', 'Beer (%)',\n",
      "       'Wine (%)', 'Spirits (%)', 'Other (%)', '2025 projection',\n",
      "       '2030 projection'],\n",
      "      dtype='object')\n",
      "***************************************************************************************************\n",
      "Datatypes of each column: Country                    object\n",
      "Recorded Consumption      float64\n",
      "Unrecorded Consumption    float64\n",
      "Beer (%)                  float64\n",
      "Wine (%)                  float64\n",
      "Spirits (%)               float64\n",
      "Other (%)                 float64\n",
      "2025 projection           float64\n",
      "2030 projection           float64\n",
      "dtype: object\n",
      "***************************************************************************************************\n",
      "First five records in the dataset:           Country  Recorded Consumption  Unrecorded Consumption  Beer (%)  \\\n",
      "0         Estonia                  11.8                     1.1      35.3   \n",
      "1       Lithuania                  11.0                     0.8      42.5   \n",
      "2  Czech Republic                  12.9                     0.4      52.7   \n",
      "3      Seychelles                  13.3                     0.5      42.0   \n",
      "4         Germany                  11.1                     0.4      50.5   \n",
      "\n",
      "   Wine (%)  Spirits (%)  Other (%)  2025 projection  2030 projection  \n",
      "0      16.9         38.2        9.7             11.1             12.2  \n",
      "1       7.7         45.2        4.6             11.7             12.1  \n",
      "2      21.8         25.4        0.1             13.4             13.2  \n",
      "3      20.8         33.7        3.5             12.1             11.7  \n",
      "4      29.9         19.6        0.1             12.1             11.6  \n",
      "***************************************************************************************************\n",
      "Statistical summary about the dataset:         Country  Recorded Consumption  Unrecorded Consumption    Beer (%)  \\\n",
      "count       378            378.000000              378.000000  378.000000   \n",
      "unique      189                   NaN                     NaN         NaN   \n",
      "top     Estonia                   NaN                     NaN         NaN   \n",
      "freq          2                   NaN                     NaN         NaN   \n",
      "mean        NaN              4.749735                0.873016   41.675132   \n",
      "std         NaN              3.720851                1.189281   21.878749   \n",
      "min         NaN              0.100000                0.100000    0.000000   \n",
      "25%         NaN              1.300000                0.300000   27.600000   \n",
      "50%         NaN              4.100000                0.500000   41.000000   \n",
      "75%         NaN              7.600000                0.900000   55.900000   \n",
      "max         NaN             13.300000                6.700000  100.000000   \n",
      "\n",
      "          Wine (%)  Spirits (%)   Other (%)  2025 projection  2030 projection  \n",
      "count   378.000000   378.000000  378.000000       378.000000       378.000000  \n",
      "unique         NaN          NaN         NaN              NaN              NaN  \n",
      "top            NaN          NaN         NaN              NaN              NaN  \n",
      "freq           NaN          NaN         NaN              NaN              NaN  \n",
      "mean     14.624868    31.574603   10.559788         5.461376         5.593122  \n",
      "std      16.580227    23.620141   21.009369         4.010588         4.086986  \n",
      "min       0.000000     0.000000    0.100000         0.100000         0.100000  \n",
      "25%       1.800000    13.000000    0.100000         2.000000         1.800000  \n",
      "50%       7.800000    25.400000    1.000000         5.000000         5.100000  \n",
      "75%      25.600000    45.100000    5.900000         8.700000         8.900000  \n",
      "max      77.400000    96.800000   96.700000        16.900000        17.500000  \n",
      "***************************************************************************************************\n"
     ]
    }
   ],
   "source": [
    "### Descriptive analysis of the dataset after cleaning:\n",
    "print (f\"Shape of the dataset: {df_1.shape}\")\n",
    "print(\"*\" * 99)\n",
    "print (f\"Columns in the dataset: {df_1.columns}\")\n",
    "print(\"*\" * 99)\n",
    "print (f\"Datatypes of each column: {df_1.dtypes}\")\n",
    "print(\"*\" * 99)\n",
    "print (f\"First five records in the dataset: {df_1.head(5)}\")\n",
    "print(\"*\" * 99)\n",
    "print (f\"Statistical summary about the dataset: {df_1.describe(include=\"all\")}\")\n",
    "print(\"*\" * 99)"
   ]
  },
  {
   "cell_type": "code",
   "execution_count": 64,
   "id": "4313cc87-4b99-4991-aa6a-825fe66bf2d9",
   "metadata": {},
   "outputs": [],
   "source": [
    "### Saving the file......\n",
    "df_1.to_csv('Counsumption_by_liquor_1.csv', index = False)"
   ]
  },
  {
   "cell_type": "code",
   "execution_count": null,
   "id": "1d9950b1-2af0-4e13-9a93-643da27d2193",
   "metadata": {},
   "outputs": [],
   "source": []
  }
 ],
 "metadata": {
  "kernelspec": {
   "display_name": "Python 3 (ipykernel)",
   "language": "python",
   "name": "python3"
  },
  "language_info": {
   "codemirror_mode": {
    "name": "ipython",
    "version": 3
   },
   "file_extension": ".py",
   "mimetype": "text/x-python",
   "name": "python",
   "nbconvert_exporter": "python",
   "pygments_lexer": "ipython3",
   "version": "3.12.7"
  }
 },
 "nbformat": 4,
 "nbformat_minor": 5
}
